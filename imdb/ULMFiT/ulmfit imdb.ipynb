{
 "cells": [
  {
   "cell_type": "code",
   "execution_count": 1,
   "id": "f067c105",
   "metadata": {},
   "outputs": [],
   "source": [
    "from fastai.text.all import *\n",
    "#from nbdev.showdoc import *"
   ]
  },
  {
   "cell_type": "code",
   "execution_count": 2,
   "id": "eb06d62c",
   "metadata": {},
   "outputs": [
    {
     "data": {
      "text/html": [
       "<div>\n",
       "<style scoped>\n",
       "    .dataframe tbody tr th:only-of-type {\n",
       "        vertical-align: middle;\n",
       "    }\n",
       "\n",
       "    .dataframe tbody tr th {\n",
       "        vertical-align: top;\n",
       "    }\n",
       "\n",
       "    .dataframe thead th {\n",
       "        text-align: right;\n",
       "    }\n",
       "</style>\n",
       "<table border=\"1\" class=\"dataframe\">\n",
       "  <thead>\n",
       "    <tr style=\"text-align: right;\">\n",
       "      <th></th>\n",
       "      <th>text</th>\n",
       "      <th>label</th>\n",
       "    </tr>\n",
       "  </thead>\n",
       "  <tbody>\n",
       "    <tr>\n",
       "      <th>0</th>\n",
       "      <td>Many reviews I've read reveals that most people tend to like Part One better than Part Two. I feel exactly the opposite. Part One played around a bit much with trying to find different ways of showing Che Guevara's personality through different types of film stock, different locations, and cutting back and forth between an interview and the Cuban revolution. For the most part it was structured finely but somewhat distracting. In Part Two, Che enters Bolivia, and along with changing geographical location, the rules and the structure changes. Gone are the spacial jumps and switching between ...</td>\n",
       "      <td>1</td>\n",
       "    </tr>\n",
       "    <tr>\n",
       "      <th>1</th>\n",
       "      <td>The effect achieved in this story about a psychiatrist who becomes involved with con artists is so mannered that I have to assume that that was the desired intent. The sets are artificial and at no time did I not feel that I was watching a movie. It seemed like the actors were just reading their lines, rather than responding to one another. While the film has elements of early film noir (except that it is in color) the approach is so exaggerated that I almost have to conclude that it is a parody of the genre.&lt;br /&gt;&lt;br /&gt;Given that the presentation had no appeal to me, I was at least expect...</td>\n",
       "      <td>0</td>\n",
       "    </tr>\n",
       "    <tr>\n",
       "      <th>2</th>\n",
       "      <td>I really enjoyed the performances of the main cast. Emma Lung is courageous and interesting. The director has developed performances where the characters are not one dimensional. A complex story with the changing between eras. Also appreciated the underlying story of the unions losing power and the effect of a large employer closing on a small town. I do not agree with the comment that the older man has to be attractive. There have be many relationships with older men and younger women - without the male being good looking. Depth of character can be appealing to the not so shallow. The fil...</td>\n",
       "      <td>1</td>\n",
       "    </tr>\n",
       "    <tr>\n",
       "      <th>3</th>\n",
       "      <td>'Midnight Cowboy' was rated X with the original release back in 1969. There are some scenes where you can understand that, just a little. The movie about Joe Buck (Jon Voight) coming from Texas to New York City to become a hustler is sometimes a little disturbing. Dressed up as a cowboy he tries to live as a hustler, making money by the act of love. It does not work out as he planned. After a guy named Rico 'Ratso' Rizzo (Dustin Hoffman) first pulled a trick on him and stole some money they become friends. They live in an empty and very filthy apartment. Then Ratso gets sick and Joe has to...</td>\n",
       "      <td>1</td>\n",
       "    </tr>\n",
       "    <tr>\n",
       "      <th>4</th>\n",
       "      <td>As the maker of \"This Darkness,\" I admit we neglected 3 very important acknowledgments in our end credits. The omissions were over-sights that could not be corrected once committed, nor did the parties involved --- who saw the movie --- mention it at the time. On behalf of the excellent cast and crew of the film, I extend them an apology. Obviously, some criticisms posted here are harsh in light of their credit being accidentally. Our production values were negligible and our \"special effects\" were quite special indeed, but the plot is very strong and the cinematography by John McLeod is s...</td>\n",
       "      <td>1</td>\n",
       "    </tr>\n",
       "  </tbody>\n",
       "</table>\n",
       "</div>"
      ],
      "text/plain": [
       "                                                                                                                                                                                                                                                                                                                                                                                                                                                                                                                                                                                                                      text  \\\n",
       "0  Many reviews I've read reveals that most people tend to like Part One better than Part Two. I feel exactly the opposite. Part One played around a bit much with trying to find different ways of showing Che Guevara's personality through different types of film stock, different locations, and cutting back and forth between an interview and the Cuban revolution. For the most part it was structured finely but somewhat distracting. In Part Two, Che enters Bolivia, and along with changing geographical location, the rules and the structure changes. Gone are the spacial jumps and switching between ...   \n",
       "1  The effect achieved in this story about a psychiatrist who becomes involved with con artists is so mannered that I have to assume that that was the desired intent. The sets are artificial and at no time did I not feel that I was watching a movie. It seemed like the actors were just reading their lines, rather than responding to one another. While the film has elements of early film noir (except that it is in color) the approach is so exaggerated that I almost have to conclude that it is a parody of the genre.<br /><br />Given that the presentation had no appeal to me, I was at least expect...   \n",
       "2  I really enjoyed the performances of the main cast. Emma Lung is courageous and interesting. The director has developed performances where the characters are not one dimensional. A complex story with the changing between eras. Also appreciated the underlying story of the unions losing power and the effect of a large employer closing on a small town. I do not agree with the comment that the older man has to be attractive. There have be many relationships with older men and younger women - without the male being good looking. Depth of character can be appealing to the not so shallow. The fil...   \n",
       "3  'Midnight Cowboy' was rated X with the original release back in 1969. There are some scenes where you can understand that, just a little. The movie about Joe Buck (Jon Voight) coming from Texas to New York City to become a hustler is sometimes a little disturbing. Dressed up as a cowboy he tries to live as a hustler, making money by the act of love. It does not work out as he planned. After a guy named Rico 'Ratso' Rizzo (Dustin Hoffman) first pulled a trick on him and stole some money they become friends. They live in an empty and very filthy apartment. Then Ratso gets sick and Joe has to...   \n",
       "4  As the maker of \"This Darkness,\" I admit we neglected 3 very important acknowledgments in our end credits. The omissions were over-sights that could not be corrected once committed, nor did the parties involved --- who saw the movie --- mention it at the time. On behalf of the excellent cast and crew of the film, I extend them an apology. Obviously, some criticisms posted here are harsh in light of their credit being accidentally. Our production values were negligible and our \"special effects\" were quite special indeed, but the plot is very strong and the cinematography by John McLeod is s...   \n",
       "\n",
       "   label  \n",
       "0      1  \n",
       "1      0  \n",
       "2      1  \n",
       "3      1  \n",
       "4      1  "
      ]
     },
     "execution_count": 2,
     "metadata": {},
     "output_type": "execute_result"
    }
   ],
   "source": [
    "train = pd.read_csv('../imdb_extracted/train/train_imdb.csv')\n",
    "train.head()"
   ]
  },
  {
   "cell_type": "code",
   "execution_count": 3,
   "id": "6857d111",
   "metadata": {},
   "outputs": [
    {
     "data": {
      "text/html": [
       "<div>\n",
       "<style scoped>\n",
       "    .dataframe tbody tr th:only-of-type {\n",
       "        vertical-align: middle;\n",
       "    }\n",
       "\n",
       "    .dataframe tbody tr th {\n",
       "        vertical-align: top;\n",
       "    }\n",
       "\n",
       "    .dataframe thead th {\n",
       "        text-align: right;\n",
       "    }\n",
       "</style>\n",
       "<table border=\"1\" class=\"dataframe\">\n",
       "  <thead>\n",
       "    <tr style=\"text-align: right;\">\n",
       "      <th></th>\n",
       "      <th>text</th>\n",
       "      <th>label</th>\n",
       "      <th>is_valid</th>\n",
       "    </tr>\n",
       "  </thead>\n",
       "  <tbody>\n",
       "    <tr>\n",
       "      <th>0</th>\n",
       "      <td>Many reviews I've read reveals that most people tend to like Part One better than Part Two. I feel exactly the opposite. Part One played around a bit much with trying to find different ways of showing Che Guevara's personality through different types of film stock, different locations, and cutting back and forth between an interview and the Cuban revolution. For the most part it was structured finely but somewhat distracting. In Part Two, Che enters Bolivia, and along with changing geographical location, the rules and the structure changes. Gone are the spacial jumps and switching between ...</td>\n",
       "      <td>1</td>\n",
       "      <td>False</td>\n",
       "    </tr>\n",
       "    <tr>\n",
       "      <th>1</th>\n",
       "      <td>The effect achieved in this story about a psychiatrist who becomes involved with con artists is so mannered that I have to assume that that was the desired intent. The sets are artificial and at no time did I not feel that I was watching a movie. It seemed like the actors were just reading their lines, rather than responding to one another. While the film has elements of early film noir (except that it is in color) the approach is so exaggerated that I almost have to conclude that it is a parody of the genre.&lt;br /&gt;&lt;br /&gt;Given that the presentation had no appeal to me, I was at least expect...</td>\n",
       "      <td>0</td>\n",
       "      <td>False</td>\n",
       "    </tr>\n",
       "    <tr>\n",
       "      <th>2</th>\n",
       "      <td>I really enjoyed the performances of the main cast. Emma Lung is courageous and interesting. The director has developed performances where the characters are not one dimensional. A complex story with the changing between eras. Also appreciated the underlying story of the unions losing power and the effect of a large employer closing on a small town. I do not agree with the comment that the older man has to be attractive. There have be many relationships with older men and younger women - without the male being good looking. Depth of character can be appealing to the not so shallow. The fil...</td>\n",
       "      <td>1</td>\n",
       "      <td>False</td>\n",
       "    </tr>\n",
       "    <tr>\n",
       "      <th>3</th>\n",
       "      <td>'Midnight Cowboy' was rated X with the original release back in 1969. There are some scenes where you can understand that, just a little. The movie about Joe Buck (Jon Voight) coming from Texas to New York City to become a hustler is sometimes a little disturbing. Dressed up as a cowboy he tries to live as a hustler, making money by the act of love. It does not work out as he planned. After a guy named Rico 'Ratso' Rizzo (Dustin Hoffman) first pulled a trick on him and stole some money they become friends. They live in an empty and very filthy apartment. Then Ratso gets sick and Joe has to...</td>\n",
       "      <td>1</td>\n",
       "      <td>False</td>\n",
       "    </tr>\n",
       "    <tr>\n",
       "      <th>4</th>\n",
       "      <td>As the maker of \"This Darkness,\" I admit we neglected 3 very important acknowledgments in our end credits. The omissions were over-sights that could not be corrected once committed, nor did the parties involved --- who saw the movie --- mention it at the time. On behalf of the excellent cast and crew of the film, I extend them an apology. Obviously, some criticisms posted here are harsh in light of their credit being accidentally. Our production values were negligible and our \"special effects\" were quite special indeed, but the plot is very strong and the cinematography by John McLeod is s...</td>\n",
       "      <td>1</td>\n",
       "      <td>False</td>\n",
       "    </tr>\n",
       "    <tr>\n",
       "      <th>...</th>\n",
       "      <td>...</td>\n",
       "      <td>...</td>\n",
       "      <td>...</td>\n",
       "    </tr>\n",
       "    <tr>\n",
       "      <th>19995</th>\n",
       "      <td>An overlong, but compelling retelling of the friendship between civil rights leader Steve Biko and Donald Woods. The first half of the film is the strongest where we see the bond formed between the two men, and how they help each other out, but the second half isn't as strong, due to the elimination of the Biko character. Still, its a compelling film with great performances by Kline and Washington, in the film that put the latter on the map. Washington was also was nominated for best supporting actor for the first time. Overall, a well made film that could have been trimmed down a bit. 7/1...</td>\n",
       "      <td>1</td>\n",
       "      <td>False</td>\n",
       "    </tr>\n",
       "    <tr>\n",
       "      <th>19996</th>\n",
       "      <td>Stephen King movies are a funny thing with me. I either really love them or I loathe them. Some of the fancier productions (such as Desperation and Storm of the Century) I didn't enjoy. Some of the smaller ones, I really loved. Sleepwalkers is one that I really do enjoy and watch it regularly.&lt;br /&gt;&lt;br /&gt;The story revolves around Charles Brady and his mother Mary. They are Sleepwalkers, shape shifting creatures who although human like in appearance shift into a feline like creature. They are immune to the scratch of cats and whenever they move to a new town, lay out traps to catch and kill...</td>\n",
       "      <td>1</td>\n",
       "      <td>False</td>\n",
       "    </tr>\n",
       "    <tr>\n",
       "      <th>19997</th>\n",
       "      <td>A cannibalistic backwoods killer is on the prowl and two bickering couples might be his next source of protein in this bargain basement Friday the 13th-clone cheapie. There s literally nothing of interest to see in this one, the killings are surprisingly sparse and when they do happen, completely amateurish. It also adds ghosts into the mix for no reason what so ever. I felt drained after watching it as if my brain was liquefying and draining out my nose. And it remains without a doubt Donald Jones' worst movie. If you're thinking of renting it because of Code Red's snazzy new DVD re-relea...</td>\n",
       "      <td>0</td>\n",
       "      <td>False</td>\n",
       "    </tr>\n",
       "    <tr>\n",
       "      <th>19998</th>\n",
       "      <td>It seems that the intention of the film was to show the aggressive (maffia-like) character of Russians, or at least of those Russians able to travel outside their big country; that it is too easy to rob a bank in England; and that British police is so inefficient that it cannot find the person who robbed the bank even when these subjects are leaving the country by air. In addition, Nicole Kidman and the supposed Russian colleagues spoke a language not yet identified anywhere, probably spoken by Aliens in the Ural mountains, but far to be the Russian one. So Nicole, if you really want to ta...</td>\n",
       "      <td>0</td>\n",
       "      <td>False</td>\n",
       "    </tr>\n",
       "    <tr>\n",
       "      <th>19999</th>\n",
       "      <td>This movie is plain fun.I has nothing to do with the original America Pie, but it is fun to watch.&lt;br /&gt;&lt;br /&gt;Another try, but better than Band camp and The naked mile, at least funnier.&lt;br /&gt;&lt;br /&gt;Just after first five minutes i was laughing my ass out, so I decided to call my friend and we would watch it together.We had a few beers and we had fun.&lt;br /&gt;&lt;br /&gt;You will not find any deep message in this movie, but it's worth watching.&lt;br /&gt;&lt;br /&gt;So, lay back and just enjoy.</td>\n",
       "      <td>1</td>\n",
       "      <td>False</td>\n",
       "    </tr>\n",
       "  </tbody>\n",
       "</table>\n",
       "<p>20000 rows × 3 columns</p>\n",
       "</div>"
      ],
      "text/plain": [
       "                                                                                                                                                                                                                                                                                                                                                                                                                                                                                                                                                                                                                          text  \\\n",
       "0      Many reviews I've read reveals that most people tend to like Part One better than Part Two. I feel exactly the opposite. Part One played around a bit much with trying to find different ways of showing Che Guevara's personality through different types of film stock, different locations, and cutting back and forth between an interview and the Cuban revolution. For the most part it was structured finely but somewhat distracting. In Part Two, Che enters Bolivia, and along with changing geographical location, the rules and the structure changes. Gone are the spacial jumps and switching between ...   \n",
       "1      The effect achieved in this story about a psychiatrist who becomes involved with con artists is so mannered that I have to assume that that was the desired intent. The sets are artificial and at no time did I not feel that I was watching a movie. It seemed like the actors were just reading their lines, rather than responding to one another. While the film has elements of early film noir (except that it is in color) the approach is so exaggerated that I almost have to conclude that it is a parody of the genre.<br /><br />Given that the presentation had no appeal to me, I was at least expect...   \n",
       "2      I really enjoyed the performances of the main cast. Emma Lung is courageous and interesting. The director has developed performances where the characters are not one dimensional. A complex story with the changing between eras. Also appreciated the underlying story of the unions losing power and the effect of a large employer closing on a small town. I do not agree with the comment that the older man has to be attractive. There have be many relationships with older men and younger women - without the male being good looking. Depth of character can be appealing to the not so shallow. The fil...   \n",
       "3      'Midnight Cowboy' was rated X with the original release back in 1969. There are some scenes where you can understand that, just a little. The movie about Joe Buck (Jon Voight) coming from Texas to New York City to become a hustler is sometimes a little disturbing. Dressed up as a cowboy he tries to live as a hustler, making money by the act of love. It does not work out as he planned. After a guy named Rico 'Ratso' Rizzo (Dustin Hoffman) first pulled a trick on him and stole some money they become friends. They live in an empty and very filthy apartment. Then Ratso gets sick and Joe has to...   \n",
       "4      As the maker of \"This Darkness,\" I admit we neglected 3 very important acknowledgments in our end credits. The omissions were over-sights that could not be corrected once committed, nor did the parties involved --- who saw the movie --- mention it at the time. On behalf of the excellent cast and crew of the film, I extend them an apology. Obviously, some criticisms posted here are harsh in light of their credit being accidentally. Our production values were negligible and our \"special effects\" were quite special indeed, but the plot is very strong and the cinematography by John McLeod is s...   \n",
       "...                                                                                                                                                                                                                                                                                                                                                                                                                                                                                                                                                                                                                        ...   \n",
       "19995  An overlong, but compelling retelling of the friendship between civil rights leader Steve Biko and Donald Woods. The first half of the film is the strongest where we see the bond formed between the two men, and how they help each other out, but the second half isn't as strong, due to the elimination of the Biko character. Still, its a compelling film with great performances by Kline and Washington, in the film that put the latter on the map. Washington was also was nominated for best supporting actor for the first time. Overall, a well made film that could have been trimmed down a bit. 7/1...   \n",
       "19996  Stephen King movies are a funny thing with me. I either really love them or I loathe them. Some of the fancier productions (such as Desperation and Storm of the Century) I didn't enjoy. Some of the smaller ones, I really loved. Sleepwalkers is one that I really do enjoy and watch it regularly.<br /><br />The story revolves around Charles Brady and his mother Mary. They are Sleepwalkers, shape shifting creatures who although human like in appearance shift into a feline like creature. They are immune to the scratch of cats and whenever they move to a new town, lay out traps to catch and kill...   \n",
       "19997  A cannibalistic backwoods killer is on the prowl and two bickering couples might be his next source of protein in this bargain basement Friday the 13th-clone cheapie. There s literally nothing of interest to see in this one, the killings are surprisingly sparse and when they do happen, completely amateurish. It also adds ghosts into the mix for no reason what so ever. I felt drained after watching it as if my brain was liquefying and draining out my nose. And it remains without a doubt Donald Jones' worst movie. If you're thinking of renting it because of Code Red's snazzy new DVD re-relea...   \n",
       "19998  It seems that the intention of the film was to show the aggressive (maffia-like) character of Russians, or at least of those Russians able to travel outside their big country; that it is too easy to rob a bank in England; and that British police is so inefficient that it cannot find the person who robbed the bank even when these subjects are leaving the country by air. In addition, Nicole Kidman and the supposed Russian colleagues spoke a language not yet identified anywhere, probably spoken by Aliens in the Ural mountains, but far to be the Russian one. So Nicole, if you really want to ta...   \n",
       "19999                                                                                                                            This movie is plain fun.I has nothing to do with the original America Pie, but it is fun to watch.<br /><br />Another try, but better than Band camp and The naked mile, at least funnier.<br /><br />Just after first five minutes i was laughing my ass out, so I decided to call my friend and we would watch it together.We had a few beers and we had fun.<br /><br />You will not find any deep message in this movie, but it's worth watching.<br /><br />So, lay back and just enjoy.   \n",
       "\n",
       "       label  is_valid  \n",
       "0          1     False  \n",
       "1          0     False  \n",
       "2          1     False  \n",
       "3          1     False  \n",
       "4          1     False  \n",
       "...      ...       ...  \n",
       "19995      1     False  \n",
       "19996      1     False  \n",
       "19997      0     False  \n",
       "19998      0     False  \n",
       "19999      1     False  \n",
       "\n",
       "[20000 rows x 3 columns]"
      ]
     },
     "execution_count": 3,
     "metadata": {},
     "output_type": "execute_result"
    }
   ],
   "source": [
    "train[\"is_valid\"] = [False for i in range(len(train))]\n",
    "train"
   ]
  },
  {
   "cell_type": "code",
   "execution_count": 4,
   "id": "1b415368",
   "metadata": {},
   "outputs": [
    {
     "data": {
      "text/html": [
       "<div>\n",
       "<style scoped>\n",
       "    .dataframe tbody tr th:only-of-type {\n",
       "        vertical-align: middle;\n",
       "    }\n",
       "\n",
       "    .dataframe tbody tr th {\n",
       "        vertical-align: top;\n",
       "    }\n",
       "\n",
       "    .dataframe thead th {\n",
       "        text-align: right;\n",
       "    }\n",
       "</style>\n",
       "<table border=\"1\" class=\"dataframe\">\n",
       "  <thead>\n",
       "    <tr style=\"text-align: right;\">\n",
       "      <th></th>\n",
       "      <th>text</th>\n",
       "      <th>label</th>\n",
       "      <th>is_valid</th>\n",
       "    </tr>\n",
       "  </thead>\n",
       "  <tbody>\n",
       "    <tr>\n",
       "      <th>0</th>\n",
       "      <td>Chloe is mysteriously saved from Dr. Caselli, the corrupt doctor responsible for transferring patients with abilities from Belle Reve to Project 33.1, and a fraction of second later Clark arrives. He finds that Bart Allan has returned to Smallville and they meet each other in Kent Farm. When Bart is captured by Lex during a break-in in a LuthorCorp's facility, Clark discovers that the Green Arrow had also hired Bart (a.k.a. Impulse), Arthur Curry (Aquaman) and Victor Stone (Cyborg) to investigate the Project 33.1. Clark accepts to join the trio to save Bart and invites Chloe to participate...</td>\n",
       "      <td>1</td>\n",
       "      <td>True</td>\n",
       "    </tr>\n",
       "    <tr>\n",
       "      <th>1</th>\n",
       "      <td>The star of this film is the screenplay. Attention to detail for the period in dress, language ,social mores ( we don't hurt women) and the politics are remarkable. It is a reminder of Kosovo to-day. The subtle pieces in the action scenes are there for an attentive viewer and the choreography of these action sequences is superb. Perhaps this film is to close to the bone of reality to earn the support it should have received. It is like a staircase of increasing violence with well paced pauses of peace and serenity between each step. A great film....</td>\n",
       "      <td>1</td>\n",
       "      <td>True</td>\n",
       "    </tr>\n",
       "    <tr>\n",
       "      <th>2</th>\n",
       "      <td>In the questionable comedy vein of Mel Brooks, \"Wholly Moses!\" tries to take the Bible story of Moses and make fun of it, resulting in the unfunniest Biblical spoof ever filmed.&lt;br /&gt;&lt;br /&gt;There is no real plot here, just excuses to trot out stalwart comedy talent in underwritten roles. Dudley Moore and Laraine Newman are on a bus tour of the Holy Land, when they stumble across an ancient scroll in a cave. There they read the story of Herschel and Zerelda, also played by Moore and Newman. Herschel's life parallels Moses'. He was sent down the river to be found by the pharaoh's family at th...</td>\n",
       "      <td>0</td>\n",
       "      <td>True</td>\n",
       "    </tr>\n",
       "    <tr>\n",
       "      <th>3</th>\n",
       "      <td>There was a great film to be made about Steve Biko. Sadly this wasn't it. Denzel Washington - never the most flexible of actors - is totally unable to convey the great charisma that Biko had. Attenborough's big crowd scenes are laughable. The Soweto massacre wasn't like this, three neat lines of children ( some doing cartwheels!) marching happily into the guns of the soldiers. With Biko dead the film rapidly descends into farce. If the struggle against Apartheid was anything it was a black people's struggle yet somehow we are all supposed to be gripped by the escape of a white man and his ...</td>\n",
       "      <td>0</td>\n",
       "      <td>True</td>\n",
       "    </tr>\n",
       "    <tr>\n",
       "      <th>4</th>\n",
       "      <td>I just saw the movie on tv. I really enjoyed it. I like a good mystery. and this one had me guessing up to the end. Sean Connery did a good job. I would recomend it to a friend.</td>\n",
       "      <td>1</td>\n",
       "      <td>True</td>\n",
       "    </tr>\n",
       "    <tr>\n",
       "      <th>...</th>\n",
       "      <td>...</td>\n",
       "      <td>...</td>\n",
       "      <td>...</td>\n",
       "    </tr>\n",
       "    <tr>\n",
       "      <th>4995</th>\n",
       "      <td>Caught this film in about 1990 on video by chance and without knowing what i was in for. Many horror fans may have missed this thinking it was a typical prison film and the ones who did get it didn't like it as it was not what they wanted to see. The above mentioned factors are probably the reasons it is low rated but just ignore that and give it a whirl if you're a fan of the genre.&lt;br /&gt;&lt;br /&gt;It has strong suits in all departments from script and atmosphere to acting and the prison itself. &lt;br /&gt;&lt;br /&gt;An absolute diamond, a film i still have on video to this day. Check it out.</td>\n",
       "      <td>1</td>\n",
       "      <td>True</td>\n",
       "    </tr>\n",
       "    <tr>\n",
       "      <th>4996</th>\n",
       "      <td>This is quite possibly the worst film I have ever seen. Worse than the most abhorrent American dross; worse than Glitter - Mariah Carey in American dross par excellence. I can only imagine that the writer and producer were taking huge amounts of recreational pharmaceuticals, and when discussing the plot actually thought it was a good idea. it's not. It is abject rubbish from very bowels of Satan himself (who could probably have written a better script had he put his mind to it). Robert Jones as Exce Producer, spending our tax payers money (lottery money folks) on this piece of nonsense, sh...</td>\n",
       "      <td>0</td>\n",
       "      <td>True</td>\n",
       "    </tr>\n",
       "    <tr>\n",
       "      <th>4997</th>\n",
       "      <td>The original book of this was set in the 1950s but that won't do for the TV series because most people watch for the 1930s style. Ironically the tube train near the end was a 1950s train painted to look like a 1930s train so the Underground can play at that game too. Hanging the storyline on a plot about the Jarrow March was feeble but the 50s version had students who were beginning to think about the world around them so I suppose making them think about the poverty of the marchers is much the same thing. All the stuff about Japp having to cater for himself was weak too but they had to pu...</td>\n",
       "      <td>0</td>\n",
       "      <td>True</td>\n",
       "    </tr>\n",
       "    <tr>\n",
       "      <th>4998</th>\n",
       "      <td>Charming in every way, this film is perfect if you're in the mood to feel good. If you love jazz music, it is a must see. If you enjoy seeing loveable characters that make you smile, can bring a tear to your eye and swing like there's no tomorrow this film is for you. If you are looking for an intense, deep, heavy piece of art to be dissected and analyzed perhaps you best stick with something by Darren Aronofsky (in other words - reviewer djjohn lighten up, don't you know a good time when you see one!) My only complaint is that the movie was just too darn short. I guess I'll just have to w...</td>\n",
       "      <td>1</td>\n",
       "      <td>True</td>\n",
       "    </tr>\n",
       "    <tr>\n",
       "      <th>4999</th>\n",
       "      <td>I felt compelled to write a review for Space Cobra as it has received a good score of 7.3 stars but only a few of the reviews at the time of me writing this were particularly positive. A strange situation and hopefully my positive review will point people towards this old and mostly forgotten Anime movie. Space cobra is the funky tale of a smuggler and rogue who becomes involved with the three sisters of an ancient and dead planet and an evil force who wants to harness the planets powers. This is an old movie and the animation shows, but what it lacks in modern sophistication it makes up w...</td>\n",
       "      <td>1</td>\n",
       "      <td>True</td>\n",
       "    </tr>\n",
       "  </tbody>\n",
       "</table>\n",
       "<p>5000 rows × 3 columns</p>\n",
       "</div>"
      ],
      "text/plain": [
       "                                                                                                                                                                                                                                                                                                                                                                                                                                                                                                                                                                                                                         text  \\\n",
       "0     Chloe is mysteriously saved from Dr. Caselli, the corrupt doctor responsible for transferring patients with abilities from Belle Reve to Project 33.1, and a fraction of second later Clark arrives. He finds that Bart Allan has returned to Smallville and they meet each other in Kent Farm. When Bart is captured by Lex during a break-in in a LuthorCorp's facility, Clark discovers that the Green Arrow had also hired Bart (a.k.a. Impulse), Arthur Curry (Aquaman) and Victor Stone (Cyborg) to investigate the Project 33.1. Clark accepts to join the trio to save Bart and invites Chloe to participate...   \n",
       "1                                                 The star of this film is the screenplay. Attention to detail for the period in dress, language ,social mores ( we don't hurt women) and the politics are remarkable. It is a reminder of Kosovo to-day. The subtle pieces in the action scenes are there for an attentive viewer and the choreography of these action sequences is superb. Perhaps this film is to close to the bone of reality to earn the support it should have received. It is like a staircase of increasing violence with well paced pauses of peace and serenity between each step. A great film....   \n",
       "2     In the questionable comedy vein of Mel Brooks, \"Wholly Moses!\" tries to take the Bible story of Moses and make fun of it, resulting in the unfunniest Biblical spoof ever filmed.<br /><br />There is no real plot here, just excuses to trot out stalwart comedy talent in underwritten roles. Dudley Moore and Laraine Newman are on a bus tour of the Holy Land, when they stumble across an ancient scroll in a cave. There they read the story of Herschel and Zerelda, also played by Moore and Newman. Herschel's life parallels Moses'. He was sent down the river to be found by the pharaoh's family at th...   \n",
       "3     There was a great film to be made about Steve Biko. Sadly this wasn't it. Denzel Washington - never the most flexible of actors - is totally unable to convey the great charisma that Biko had. Attenborough's big crowd scenes are laughable. The Soweto massacre wasn't like this, three neat lines of children ( some doing cartwheels!) marching happily into the guns of the soldiers. With Biko dead the film rapidly descends into farce. If the struggle against Apartheid was anything it was a black people's struggle yet somehow we are all supposed to be gripped by the escape of a white man and his ...   \n",
       "4                                                                                                                                                                                                                                                                                                                                                                                                                                           I just saw the movie on tv. I really enjoyed it. I like a good mystery. and this one had me guessing up to the end. Sean Connery did a good job. I would recomend it to a friend.   \n",
       "...                                                                                                                                                                                                                                                                                                                                                                                                                                                                                                                                                                                                                       ...   \n",
       "4995                Caught this film in about 1990 on video by chance and without knowing what i was in for. Many horror fans may have missed this thinking it was a typical prison film and the ones who did get it didn't like it as it was not what they wanted to see. The above mentioned factors are probably the reasons it is low rated but just ignore that and give it a whirl if you're a fan of the genre.<br /><br />It has strong suits in all departments from script and atmosphere to acting and the prison itself. <br /><br />An absolute diamond, a film i still have on video to this day. Check it out.   \n",
       "4996  This is quite possibly the worst film I have ever seen. Worse than the most abhorrent American dross; worse than Glitter - Mariah Carey in American dross par excellence. I can only imagine that the writer and producer were taking huge amounts of recreational pharmaceuticals, and when discussing the plot actually thought it was a good idea. it's not. It is abject rubbish from very bowels of Satan himself (who could probably have written a better script had he put his mind to it). Robert Jones as Exce Producer, spending our tax payers money (lottery money folks) on this piece of nonsense, sh...   \n",
       "4997  The original book of this was set in the 1950s but that won't do for the TV series because most people watch for the 1930s style. Ironically the tube train near the end was a 1950s train painted to look like a 1930s train so the Underground can play at that game too. Hanging the storyline on a plot about the Jarrow March was feeble but the 50s version had students who were beginning to think about the world around them so I suppose making them think about the poverty of the marchers is much the same thing. All the stuff about Japp having to cater for himself was weak too but they had to pu...   \n",
       "4998  Charming in every way, this film is perfect if you're in the mood to feel good. If you love jazz music, it is a must see. If you enjoy seeing loveable characters that make you smile, can bring a tear to your eye and swing like there's no tomorrow this film is for you. If you are looking for an intense, deep, heavy piece of art to be dissected and analyzed perhaps you best stick with something by Darren Aronofsky (in other words - reviewer djjohn lighten up, don't you know a good time when you see one!) My only complaint is that the movie was just too darn short. I guess I'll just have to w...   \n",
       "4999  I felt compelled to write a review for Space Cobra as it has received a good score of 7.3 stars but only a few of the reviews at the time of me writing this were particularly positive. A strange situation and hopefully my positive review will point people towards this old and mostly forgotten Anime movie. Space cobra is the funky tale of a smuggler and rogue who becomes involved with the three sisters of an ancient and dead planet and an evil force who wants to harness the planets powers. This is an old movie and the animation shows, but what it lacks in modern sophistication it makes up w...   \n",
       "\n",
       "      label  is_valid  \n",
       "0         1      True  \n",
       "1         1      True  \n",
       "2         0      True  \n",
       "3         0      True  \n",
       "4         1      True  \n",
       "...     ...       ...  \n",
       "4995      1      True  \n",
       "4996      0      True  \n",
       "4997      0      True  \n",
       "4998      1      True  \n",
       "4999      1      True  \n",
       "\n",
       "[5000 rows x 3 columns]"
      ]
     },
     "execution_count": 4,
     "metadata": {},
     "output_type": "execute_result"
    }
   ],
   "source": [
    "val = pd.read_csv('../imdb_extracted/val/val_imdb.csv')\n",
    "val[\"is_valid\"] = [True for i in range(len(val))]\n",
    "val"
   ]
  },
  {
   "cell_type": "code",
   "execution_count": 5,
   "id": "3e694d3f",
   "metadata": {},
   "outputs": [
    {
     "data": {
      "text/html": [
       "<div>\n",
       "<style scoped>\n",
       "    .dataframe tbody tr th:only-of-type {\n",
       "        vertical-align: middle;\n",
       "    }\n",
       "\n",
       "    .dataframe tbody tr th {\n",
       "        vertical-align: top;\n",
       "    }\n",
       "\n",
       "    .dataframe thead th {\n",
       "        text-align: right;\n",
       "    }\n",
       "</style>\n",
       "<table border=\"1\" class=\"dataframe\">\n",
       "  <thead>\n",
       "    <tr style=\"text-align: right;\">\n",
       "      <th></th>\n",
       "      <th>text</th>\n",
       "      <th>label</th>\n",
       "      <th>is_valid</th>\n",
       "    </tr>\n",
       "  </thead>\n",
       "  <tbody>\n",
       "    <tr>\n",
       "      <th>0</th>\n",
       "      <td>Many reviews I've read reveals that most people tend to like Part One better than Part Two. I feel exactly the opposite. Part One played around a bit much with trying to find different ways of showing Che Guevara's personality through different types of film stock, different locations, and cutting back and forth between an interview and the Cuban revolution. For the most part it was structured finely but somewhat distracting. In Part Two, Che enters Bolivia, and along with changing geographical location, the rules and the structure changes. Gone are the spacial jumps and switching between ...</td>\n",
       "      <td>1</td>\n",
       "      <td>False</td>\n",
       "    </tr>\n",
       "    <tr>\n",
       "      <th>1</th>\n",
       "      <td>The effect achieved in this story about a psychiatrist who becomes involved with con artists is so mannered that I have to assume that that was the desired intent. The sets are artificial and at no time did I not feel that I was watching a movie. It seemed like the actors were just reading their lines, rather than responding to one another. While the film has elements of early film noir (except that it is in color) the approach is so exaggerated that I almost have to conclude that it is a parody of the genre.&lt;br /&gt;&lt;br /&gt;Given that the presentation had no appeal to me, I was at least expect...</td>\n",
       "      <td>0</td>\n",
       "      <td>False</td>\n",
       "    </tr>\n",
       "    <tr>\n",
       "      <th>2</th>\n",
       "      <td>I really enjoyed the performances of the main cast. Emma Lung is courageous and interesting. The director has developed performances where the characters are not one dimensional. A complex story with the changing between eras. Also appreciated the underlying story of the unions losing power and the effect of a large employer closing on a small town. I do not agree with the comment that the older man has to be attractive. There have be many relationships with older men and younger women - without the male being good looking. Depth of character can be appealing to the not so shallow. The fil...</td>\n",
       "      <td>1</td>\n",
       "      <td>False</td>\n",
       "    </tr>\n",
       "    <tr>\n",
       "      <th>3</th>\n",
       "      <td>'Midnight Cowboy' was rated X with the original release back in 1969. There are some scenes where you can understand that, just a little. The movie about Joe Buck (Jon Voight) coming from Texas to New York City to become a hustler is sometimes a little disturbing. Dressed up as a cowboy he tries to live as a hustler, making money by the act of love. It does not work out as he planned. After a guy named Rico 'Ratso' Rizzo (Dustin Hoffman) first pulled a trick on him and stole some money they become friends. They live in an empty and very filthy apartment. Then Ratso gets sick and Joe has to...</td>\n",
       "      <td>1</td>\n",
       "      <td>False</td>\n",
       "    </tr>\n",
       "    <tr>\n",
       "      <th>4</th>\n",
       "      <td>As the maker of \"This Darkness,\" I admit we neglected 3 very important acknowledgments in our end credits. The omissions were over-sights that could not be corrected once committed, nor did the parties involved --- who saw the movie --- mention it at the time. On behalf of the excellent cast and crew of the film, I extend them an apology. Obviously, some criticisms posted here are harsh in light of their credit being accidentally. Our production values were negligible and our \"special effects\" were quite special indeed, but the plot is very strong and the cinematography by John McLeod is s...</td>\n",
       "      <td>1</td>\n",
       "      <td>False</td>\n",
       "    </tr>\n",
       "    <tr>\n",
       "      <th>...</th>\n",
       "      <td>...</td>\n",
       "      <td>...</td>\n",
       "      <td>...</td>\n",
       "    </tr>\n",
       "    <tr>\n",
       "      <th>24995</th>\n",
       "      <td>Caught this film in about 1990 on video by chance and without knowing what i was in for. Many horror fans may have missed this thinking it was a typical prison film and the ones who did get it didn't like it as it was not what they wanted to see. The above mentioned factors are probably the reasons it is low rated but just ignore that and give it a whirl if you're a fan of the genre.&lt;br /&gt;&lt;br /&gt;It has strong suits in all departments from script and atmosphere to acting and the prison itself. &lt;br /&gt;&lt;br /&gt;An absolute diamond, a film i still have on video to this day. Check it out.</td>\n",
       "      <td>1</td>\n",
       "      <td>True</td>\n",
       "    </tr>\n",
       "    <tr>\n",
       "      <th>24996</th>\n",
       "      <td>This is quite possibly the worst film I have ever seen. Worse than the most abhorrent American dross; worse than Glitter - Mariah Carey in American dross par excellence. I can only imagine that the writer and producer were taking huge amounts of recreational pharmaceuticals, and when discussing the plot actually thought it was a good idea. it's not. It is abject rubbish from very bowels of Satan himself (who could probably have written a better script had he put his mind to it). Robert Jones as Exce Producer, spending our tax payers money (lottery money folks) on this piece of nonsense, sh...</td>\n",
       "      <td>0</td>\n",
       "      <td>True</td>\n",
       "    </tr>\n",
       "    <tr>\n",
       "      <th>24997</th>\n",
       "      <td>The original book of this was set in the 1950s but that won't do for the TV series because most people watch for the 1930s style. Ironically the tube train near the end was a 1950s train painted to look like a 1930s train so the Underground can play at that game too. Hanging the storyline on a plot about the Jarrow March was feeble but the 50s version had students who were beginning to think about the world around them so I suppose making them think about the poverty of the marchers is much the same thing. All the stuff about Japp having to cater for himself was weak too but they had to pu...</td>\n",
       "      <td>0</td>\n",
       "      <td>True</td>\n",
       "    </tr>\n",
       "    <tr>\n",
       "      <th>24998</th>\n",
       "      <td>Charming in every way, this film is perfect if you're in the mood to feel good. If you love jazz music, it is a must see. If you enjoy seeing loveable characters that make you smile, can bring a tear to your eye and swing like there's no tomorrow this film is for you. If you are looking for an intense, deep, heavy piece of art to be dissected and analyzed perhaps you best stick with something by Darren Aronofsky (in other words - reviewer djjohn lighten up, don't you know a good time when you see one!) My only complaint is that the movie was just too darn short. I guess I'll just have to w...</td>\n",
       "      <td>1</td>\n",
       "      <td>True</td>\n",
       "    </tr>\n",
       "    <tr>\n",
       "      <th>24999</th>\n",
       "      <td>I felt compelled to write a review for Space Cobra as it has received a good score of 7.3 stars but only a few of the reviews at the time of me writing this were particularly positive. A strange situation and hopefully my positive review will point people towards this old and mostly forgotten Anime movie. Space cobra is the funky tale of a smuggler and rogue who becomes involved with the three sisters of an ancient and dead planet and an evil force who wants to harness the planets powers. This is an old movie and the animation shows, but what it lacks in modern sophistication it makes up w...</td>\n",
       "      <td>1</td>\n",
       "      <td>True</td>\n",
       "    </tr>\n",
       "  </tbody>\n",
       "</table>\n",
       "<p>25000 rows × 3 columns</p>\n",
       "</div>"
      ],
      "text/plain": [
       "                                                                                                                                                                                                                                                                                                                                                                                                                                                                                                                                                                                                                          text  \\\n",
       "0      Many reviews I've read reveals that most people tend to like Part One better than Part Two. I feel exactly the opposite. Part One played around a bit much with trying to find different ways of showing Che Guevara's personality through different types of film stock, different locations, and cutting back and forth between an interview and the Cuban revolution. For the most part it was structured finely but somewhat distracting. In Part Two, Che enters Bolivia, and along with changing geographical location, the rules and the structure changes. Gone are the spacial jumps and switching between ...   \n",
       "1      The effect achieved in this story about a psychiatrist who becomes involved with con artists is so mannered that I have to assume that that was the desired intent. The sets are artificial and at no time did I not feel that I was watching a movie. It seemed like the actors were just reading their lines, rather than responding to one another. While the film has elements of early film noir (except that it is in color) the approach is so exaggerated that I almost have to conclude that it is a parody of the genre.<br /><br />Given that the presentation had no appeal to me, I was at least expect...   \n",
       "2      I really enjoyed the performances of the main cast. Emma Lung is courageous and interesting. The director has developed performances where the characters are not one dimensional. A complex story with the changing between eras. Also appreciated the underlying story of the unions losing power and the effect of a large employer closing on a small town. I do not agree with the comment that the older man has to be attractive. There have be many relationships with older men and younger women - without the male being good looking. Depth of character can be appealing to the not so shallow. The fil...   \n",
       "3      'Midnight Cowboy' was rated X with the original release back in 1969. There are some scenes where you can understand that, just a little. The movie about Joe Buck (Jon Voight) coming from Texas to New York City to become a hustler is sometimes a little disturbing. Dressed up as a cowboy he tries to live as a hustler, making money by the act of love. It does not work out as he planned. After a guy named Rico 'Ratso' Rizzo (Dustin Hoffman) first pulled a trick on him and stole some money they become friends. They live in an empty and very filthy apartment. Then Ratso gets sick and Joe has to...   \n",
       "4      As the maker of \"This Darkness,\" I admit we neglected 3 very important acknowledgments in our end credits. The omissions were over-sights that could not be corrected once committed, nor did the parties involved --- who saw the movie --- mention it at the time. On behalf of the excellent cast and crew of the film, I extend them an apology. Obviously, some criticisms posted here are harsh in light of their credit being accidentally. Our production values were negligible and our \"special effects\" were quite special indeed, but the plot is very strong and the cinematography by John McLeod is s...   \n",
       "...                                                                                                                                                                                                                                                                                                                                                                                                                                                                                                                                                                                                                        ...   \n",
       "24995                Caught this film in about 1990 on video by chance and without knowing what i was in for. Many horror fans may have missed this thinking it was a typical prison film and the ones who did get it didn't like it as it was not what they wanted to see. The above mentioned factors are probably the reasons it is low rated but just ignore that and give it a whirl if you're a fan of the genre.<br /><br />It has strong suits in all departments from script and atmosphere to acting and the prison itself. <br /><br />An absolute diamond, a film i still have on video to this day. Check it out.   \n",
       "24996  This is quite possibly the worst film I have ever seen. Worse than the most abhorrent American dross; worse than Glitter - Mariah Carey in American dross par excellence. I can only imagine that the writer and producer were taking huge amounts of recreational pharmaceuticals, and when discussing the plot actually thought it was a good idea. it's not. It is abject rubbish from very bowels of Satan himself (who could probably have written a better script had he put his mind to it). Robert Jones as Exce Producer, spending our tax payers money (lottery money folks) on this piece of nonsense, sh...   \n",
       "24997  The original book of this was set in the 1950s but that won't do for the TV series because most people watch for the 1930s style. Ironically the tube train near the end was a 1950s train painted to look like a 1930s train so the Underground can play at that game too. Hanging the storyline on a plot about the Jarrow March was feeble but the 50s version had students who were beginning to think about the world around them so I suppose making them think about the poverty of the marchers is much the same thing. All the stuff about Japp having to cater for himself was weak too but they had to pu...   \n",
       "24998  Charming in every way, this film is perfect if you're in the mood to feel good. If you love jazz music, it is a must see. If you enjoy seeing loveable characters that make you smile, can bring a tear to your eye and swing like there's no tomorrow this film is for you. If you are looking for an intense, deep, heavy piece of art to be dissected and analyzed perhaps you best stick with something by Darren Aronofsky (in other words - reviewer djjohn lighten up, don't you know a good time when you see one!) My only complaint is that the movie was just too darn short. I guess I'll just have to w...   \n",
       "24999  I felt compelled to write a review for Space Cobra as it has received a good score of 7.3 stars but only a few of the reviews at the time of me writing this were particularly positive. A strange situation and hopefully my positive review will point people towards this old and mostly forgotten Anime movie. Space cobra is the funky tale of a smuggler and rogue who becomes involved with the three sisters of an ancient and dead planet and an evil force who wants to harness the planets powers. This is an old movie and the animation shows, but what it lacks in modern sophistication it makes up w...   \n",
       "\n",
       "       label  is_valid  \n",
       "0          1     False  \n",
       "1          0     False  \n",
       "2          1     False  \n",
       "3          1     False  \n",
       "4          1     False  \n",
       "...      ...       ...  \n",
       "24995      1      True  \n",
       "24996      0      True  \n",
       "24997      0      True  \n",
       "24998      1      True  \n",
       "24999      1      True  \n",
       "\n",
       "[25000 rows x 3 columns]"
      ]
     },
     "execution_count": 5,
     "metadata": {},
     "output_type": "execute_result"
    }
   ],
   "source": [
    "df = pd.concat((train,val), axis = 0)\n",
    "df.index = [i for i in range(len(df))]\n",
    "df"
   ]
  },
  {
   "cell_type": "code",
   "execution_count": 6,
   "id": "e06a6e93",
   "metadata": {},
   "outputs": [],
   "source": [
    "set_seed(42,True)"
   ]
  },
  {
   "cell_type": "code",
   "execution_count": 7,
   "id": "15848675",
   "metadata": {},
   "outputs": [
    {
     "name": "stdout",
     "output_type": "stream",
     "text": [
      "Due to IPython and Windows limitation, python multiprocessing isn't available now.\n",
      "So `n_workers` has to be changed to 0 to avoid getting stuck\n"
     ]
    }
   ],
   "source": [
    "dbunch_lm = TextDataLoaders.from_df(\n",
    "    df, \n",
    "    text_col='text', \n",
    "    label_col='label',\n",
    "    path='../imdb_extracted/',\n",
    "    is_lm=True,\n",
    "    valid_col='is_valid'\n",
    ")"
   ]
  },
  {
   "cell_type": "code",
   "execution_count": 8,
   "id": "4351913e",
   "metadata": {},
   "outputs": [],
   "source": [
    "bs = 128"
   ]
  },
  {
   "cell_type": "code",
   "execution_count": 9,
   "id": "81b1eab3",
   "metadata": {},
   "outputs": [],
   "source": [
    "learn = language_model_learner(dbunch_lm, AWD_LSTM, drop_mult=0.3, metrics=[accuracy, Perplexity()]).to_fp16()"
   ]
  },
  {
   "cell_type": "code",
   "execution_count": 12,
   "id": "c90881a4",
   "metadata": {},
   "outputs": [
    {
     "data": {
      "text/html": [],
      "text/plain": [
       "<IPython.core.display.HTML object>"
      ]
     },
     "metadata": {},
     "output_type": "display_data"
    },
    {
     "data": {
      "text/plain": [
       "SuggestedLRs(valley=0.004365158267319202)"
      ]
     },
     "execution_count": 12,
     "metadata": {},
     "output_type": "execute_result"
    },
    {
     "data": {
      "image/png": "[encoded data removed]",
      "text/plain": [
       "<Figure size 432x288 with 1 Axes>"
      ]
     },
     "metadata": {
      "needs_background": "light"
     },
     "output_type": "display_data"
    }
   ],
   "source": [
    "learn.lr_find()"
   ]
  },
  {
   "cell_type": "code",
   "execution_count": 11,
   "id": "0cf343f2",
   "metadata": {},
   "outputs": [],
   "source": [
    "set_seed(42,True)"
   ]
  },
  {
   "cell_type": "code",
   "execution_count": 12,
   "id": "feb181ca",
   "metadata": {},
   "outputs": [
    {
     "data": {
      "text/html": [
       "<table border=\"1\" class=\"dataframe\">\n",
       "  <thead>\n",
       "    <tr style=\"text-align: left;\">\n",
       "      <th>epoch</th>\n",
       "      <th>train_loss</th>\n",
       "      <th>valid_loss</th>\n",
       "      <th>accuracy</th>\n",
       "      <th>perplexity</th>\n",
       "      <th>time</th>\n",
       "    </tr>\n",
       "  </thead>\n",
       "  <tbody>\n",
       "    <tr>\n",
       "      <td>0</td>\n",
       "      <td>4.078225</td>\n",
       "      <td>4.004957</td>\n",
       "      <td>0.291804</td>\n",
       "      <td>54.869450</td>\n",
       "      <td>04:37</td>\n",
       "    </tr>\n",
       "  </tbody>\n",
       "</table>"
      ],
      "text/plain": [
       "<IPython.core.display.HTML object>"
      ]
     },
     "metadata": {},
     "output_type": "display_data"
    }
   ],
   "source": [
    "learn.fit_one_cycle(1, 0.004, moms=(0.8,0.7,0.8))"
   ]
  },
  {
   "cell_type": "code",
   "execution_count": 13,
   "id": "7bff41c8",
   "metadata": {},
   "outputs": [],
   "source": [
    "learn.unfreeze()"
   ]
  },
  {
   "cell_type": "code",
   "execution_count": 14,
   "id": "5ea93215",
   "metadata": {},
   "outputs": [],
   "source": [
    "set_seed(42,True)"
   ]
  },
  {
   "cell_type": "code",
   "execution_count": 15,
   "id": "6d692421",
   "metadata": {},
   "outputs": [
    {
     "data": {
      "text/html": [
       "<table border=\"1\" class=\"dataframe\">\n",
       "  <thead>\n",
       "    <tr style=\"text-align: left;\">\n",
       "      <th>epoch</th>\n",
       "      <th>train_loss</th>\n",
       "      <th>valid_loss</th>\n",
       "      <th>accuracy</th>\n",
       "      <th>perplexity</th>\n",
       "      <th>time</th>\n",
       "    </tr>\n",
       "  </thead>\n",
       "  <tbody>\n",
       "    <tr>\n",
       "      <td>0</td>\n",
       "      <td>3.914845</td>\n",
       "      <td>3.933997</td>\n",
       "      <td>0.297703</td>\n",
       "      <td>51.110878</td>\n",
       "      <td>05:09</td>\n",
       "    </tr>\n",
       "    <tr>\n",
       "      <td>1</td>\n",
       "      <td>3.890113</td>\n",
       "      <td>3.900837</td>\n",
       "      <td>0.301753</td>\n",
       "      <td>49.443836</td>\n",
       "      <td>05:09</td>\n",
       "    </tr>\n",
       "    <tr>\n",
       "      <td>2</td>\n",
       "      <td>3.741693</td>\n",
       "      <td>3.850452</td>\n",
       "      <td>0.308312</td>\n",
       "      <td>47.014317</td>\n",
       "      <td>05:11</td>\n",
       "    </tr>\n",
       "    <tr>\n",
       "      <td>3</td>\n",
       "      <td>3.548692</td>\n",
       "      <td>3.821673</td>\n",
       "      <td>0.312658</td>\n",
       "      <td>45.680565</td>\n",
       "      <td>05:15</td>\n",
       "    </tr>\n",
       "    <tr>\n",
       "      <td>4</td>\n",
       "      <td>3.315612</td>\n",
       "      <td>3.820830</td>\n",
       "      <td>0.314556</td>\n",
       "      <td>45.642090</td>\n",
       "      <td>05:14</td>\n",
       "    </tr>\n",
       "    <tr>\n",
       "      <td>5</td>\n",
       "      <td>3.089318</td>\n",
       "      <td>3.857024</td>\n",
       "      <td>0.313915</td>\n",
       "      <td>47.324303</td>\n",
       "      <td>05:17</td>\n",
       "    </tr>\n",
       "    <tr>\n",
       "      <td>6</td>\n",
       "      <td>2.944428</td>\n",
       "      <td>3.894212</td>\n",
       "      <td>0.312519</td>\n",
       "      <td>49.117344</td>\n",
       "      <td>05:15</td>\n",
       "    </tr>\n",
       "  </tbody>\n",
       "</table>"
      ],
      "text/plain": [
       "<IPython.core.display.HTML object>"
      ]
     },
     "metadata": {},
     "output_type": "display_data"
    }
   ],
   "source": [
    "learn.fit_one_cycle(7, 0.004, moms=(0.8,0.7,0.8))"
   ]
  },
  {
   "cell_type": "code",
   "execution_count": 21,
   "id": "e77b5326",
   "metadata": {},
   "outputs": [
    {
     "data": {
      "text/html": [
       "<div>\n",
       "<style scoped>\n",
       "    .dataframe tbody tr th:only-of-type {\n",
       "        vertical-align: middle;\n",
       "    }\n",
       "\n",
       "    .dataframe tbody tr th {\n",
       "        vertical-align: top;\n",
       "    }\n",
       "\n",
       "    .dataframe thead th {\n",
       "        text-align: right;\n",
       "    }\n",
       "</style>\n",
       "<table border=\"1\" class=\"dataframe\">\n",
       "  <thead>\n",
       "    <tr style=\"text-align: right;\">\n",
       "      <th></th>\n",
       "      <th>text</th>\n",
       "      <th>label</th>\n",
       "    </tr>\n",
       "  </thead>\n",
       "  <tbody>\n",
       "    <tr>\n",
       "      <th>0</th>\n",
       "      <td>I went and saw this movie last night after being coaxed to by a few friends of mine. I'll admit that I was reluctant to see it because from what I knew of Ashton Kutcher he was only able to do comedy. I was wrong. Kutcher played the character of Jake Fischer very well, and Kevin Costner played Ben Randall with such professionalism. The sign of a good movie is that it can toy with our emotions. This one did exactly that. The entire theater (which was sold out) was overcome by laughter during the first half of the movie, and were moved to tears during the second half. While exiting the theat...</td>\n",
       "      <td>1</td>\n",
       "    </tr>\n",
       "    <tr>\n",
       "      <th>1</th>\n",
       "      <td>Actor turned director Bill Paxton follows up his promising debut, the Gothic-horror \"Frailty\", with this family friendly sports drama about the 1913 U.S. Open where a young American caddy rises from his humble background to play against his Bristish idol in what was dubbed as \"The Greatest Game Ever Played.\" I'm no fan of golf, and these scrappy underdog sports flicks are a dime a dozen (most recently done to grand effect with \"Miracle\" and \"Cinderella Man\"), but some how this film was enthralling all the same.&lt;br /&gt;&lt;br /&gt;The film starts with some creative opening credits (imagine a Disney...</td>\n",
       "      <td>1</td>\n",
       "    </tr>\n",
       "    <tr>\n",
       "      <th>2</th>\n",
       "      <td>As a recreational golfer with some knowledge of the sport's history, I was pleased with Disney's sensitivity to the issues of class in golf in the early twentieth century. The movie depicted well the psychological battles that Harry Vardon fought within himself, from his childhood trauma of being evicted to his own inability to break that glass ceiling that prevents him from being accepted as an equal in English golf society. Likewise, the young Ouimet goes through his own class struggles, being a mere caddie in the eyes of the upper crust Americans who scoff at his attempts to rise above ...</td>\n",
       "      <td>1</td>\n",
       "    </tr>\n",
       "    <tr>\n",
       "      <th>3</th>\n",
       "      <td>I saw this film in a sneak preview, and it is delightful. The cinematography is unusually creative, the acting is good, and the story is fabulous. If this movie does not do well, it won't be because it doesn't deserve to. Before this film, I didn't realize how charming Shia Lebouf could be. He does a marvelous, self-contained, job as the lead. There's something incredibly sweet about him, and it makes the movie even better. The other actors do a good job as well, and the film contains moments of really high suspense, more than one might expect from a movie about golf. Sports movies are a d...</td>\n",
       "      <td>1</td>\n",
       "    </tr>\n",
       "    <tr>\n",
       "      <th>4</th>\n",
       "      <td>Bill Paxton has taken the true story of the 1913 US golf open and made a film that is about much more than an extra-ordinary game of golf. The film also deals directly with the class tensions of the early twentieth century and touches upon the profound anti-Catholic prejudices of both the British and American establishments. But at heart the film is about that perennial favourite of triumph against the odds.&lt;br /&gt;&lt;br /&gt;The acting is exemplary throughout. Stephen Dillane is excellent as usual, but the revelation of the movie is Shia LaBoeuf who delivers a disciplined, dignified and highly s...</td>\n",
       "      <td>1</td>\n",
       "    </tr>\n",
       "    <tr>\n",
       "      <th>...</th>\n",
       "      <td>...</td>\n",
       "      <td>...</td>\n",
       "    </tr>\n",
       "    <tr>\n",
       "      <th>24995</th>\n",
       "      <td>I occasionally let my kids watch this garbage so they will understand just how pathetic the show's \"contestants\" are. They are pathetic not because they are fat, but because they whore their dignity for a few minutes of fame and fortune.&lt;br /&gt;&lt;br /&gt;For anyone to appear on National TV and blubber, sniffle, and whine about being fat (entirely their own fault) is nauseating. What does this say about us as a nation? Does it suggest that your lifestyle choices, and the consequences of them, aren't our responsibility? &lt;br /&gt;&lt;br /&gt;\"The Biggest Loser\" is an appropriate title, but it has nothing to...</td>\n",
       "      <td>0</td>\n",
       "    </tr>\n",
       "    <tr>\n",
       "      <th>24996</th>\n",
       "      <td>When all we have anymore is pretty much reality TV shows with people making fools of themselves for whatever reason be it too fat or can't sing or cook worth a damn than I know Hollywood has run out of original ideas. I can not recall a time when anything original or intelligent came out on TV in the last 15 years. What is our obsession with watching bums make fools of themselves? I would have thought these types of programs would have run full circle but every year they come up with something new that is more strange then the one before. OK so people in this one need to lose weight...most...</td>\n",
       "      <td>0</td>\n",
       "    </tr>\n",
       "    <tr>\n",
       "      <th>24997</th>\n",
       "      <td>The basic genre is a thriller intercut with an uncomfortable menage-a-trois. Fellowes has tried to make a lot more out of this, using the lies of the title in order to bring about all manner of small twists, invariably designed to surprise the characters more than the audience.&lt;br /&gt;&lt;br /&gt;It's really rather messy though. Fellowes doesn't seem interested presenting the thriller elements in a fashion that will keep us seat-edged. Rather his focus is on the moral predicaments themselves.&lt;br /&gt;&lt;br /&gt;The dialogue is inconsistent, stagey here, vernacular there and with the constant surprise of r...</td>\n",
       "      <td>0</td>\n",
       "    </tr>\n",
       "    <tr>\n",
       "      <th>24998</th>\n",
       "      <td>Four things intrigued me as to this film - firstly, it stars Carly Pope (of \"Popular\" fame), who is always a pleasure to watch. Secdonly, it features brilliant New Zealand actress Rena Owen. Thirdly, it is filmed in association with the New Zealand Film Commission. Fourthly, a friend recommended it to me. However, I was utterly disappointed. The whole storyline is absurd and complicated, with very little resolution. Pope's acting is fine, but Owen is unfortunately under-used. The other actors and actresses are all okay, but I am unfamiliar with them all. Aside from the nice riddles which a...</td>\n",
       "      <td>0</td>\n",
       "    </tr>\n",
       "    <tr>\n",
       "      <th>24999</th>\n",
       "      <td>David Bryce's comments nearby are exceptionally well written and informative as almost say everything I feel about DARLING LILI. This massive musical is so peculiar and over blown, over produced and must have caused ruptures at Paramount in 1970. It cost 22 million dollars! That is simply irresponsible. DARLING LILI must have been greenlit from a board meeting that said \"hey we got that Pink Panther guy and that Sound Of Music gal... lets get this too\" and handed over a blank cheque. The result is a hybrid of GIGI, ZEPPELIN, HALF A SIXPENCE, some MGM 40s song and dance numbers of a style (...</td>\n",
       "      <td>0</td>\n",
       "    </tr>\n",
       "  </tbody>\n",
       "</table>\n",
       "<p>25000 rows × 2 columns</p>\n",
       "</div>"
      ],
      "text/plain": [
       "                                                                                                                                                                                                                                                                                                                                                                                                                                                                                                                                                                                                                          text  \\\n",
       "0      I went and saw this movie last night after being coaxed to by a few friends of mine. I'll admit that I was reluctant to see it because from what I knew of Ashton Kutcher he was only able to do comedy. I was wrong. Kutcher played the character of Jake Fischer very well, and Kevin Costner played Ben Randall with such professionalism. The sign of a good movie is that it can toy with our emotions. This one did exactly that. The entire theater (which was sold out) was overcome by laughter during the first half of the movie, and were moved to tears during the second half. While exiting the theat...   \n",
       "1      Actor turned director Bill Paxton follows up his promising debut, the Gothic-horror \"Frailty\", with this family friendly sports drama about the 1913 U.S. Open where a young American caddy rises from his humble background to play against his Bristish idol in what was dubbed as \"The Greatest Game Ever Played.\" I'm no fan of golf, and these scrappy underdog sports flicks are a dime a dozen (most recently done to grand effect with \"Miracle\" and \"Cinderella Man\"), but some how this film was enthralling all the same.<br /><br />The film starts with some creative opening credits (imagine a Disney...   \n",
       "2      As a recreational golfer with some knowledge of the sport's history, I was pleased with Disney's sensitivity to the issues of class in golf in the early twentieth century. The movie depicted well the psychological battles that Harry Vardon fought within himself, from his childhood trauma of being evicted to his own inability to break that glass ceiling that prevents him from being accepted as an equal in English golf society. Likewise, the young Ouimet goes through his own class struggles, being a mere caddie in the eyes of the upper crust Americans who scoff at his attempts to rise above ...   \n",
       "3      I saw this film in a sneak preview, and it is delightful. The cinematography is unusually creative, the acting is good, and the story is fabulous. If this movie does not do well, it won't be because it doesn't deserve to. Before this film, I didn't realize how charming Shia Lebouf could be. He does a marvelous, self-contained, job as the lead. There's something incredibly sweet about him, and it makes the movie even better. The other actors do a good job as well, and the film contains moments of really high suspense, more than one might expect from a movie about golf. Sports movies are a d...   \n",
       "4      Bill Paxton has taken the true story of the 1913 US golf open and made a film that is about much more than an extra-ordinary game of golf. The film also deals directly with the class tensions of the early twentieth century and touches upon the profound anti-Catholic prejudices of both the British and American establishments. But at heart the film is about that perennial favourite of triumph against the odds.<br /><br />The acting is exemplary throughout. Stephen Dillane is excellent as usual, but the revelation of the movie is Shia LaBoeuf who delivers a disciplined, dignified and highly s...   \n",
       "...                                                                                                                                                                                                                                                                                                                                                                                                                                                                                                                                                                                                                        ...   \n",
       "24995  I occasionally let my kids watch this garbage so they will understand just how pathetic the show's \"contestants\" are. They are pathetic not because they are fat, but because they whore their dignity for a few minutes of fame and fortune.<br /><br />For anyone to appear on National TV and blubber, sniffle, and whine about being fat (entirely their own fault) is nauseating. What does this say about us as a nation? Does it suggest that your lifestyle choices, and the consequences of them, aren't our responsibility? <br /><br />\"The Biggest Loser\" is an appropriate title, but it has nothing to...   \n",
       "24996  When all we have anymore is pretty much reality TV shows with people making fools of themselves for whatever reason be it too fat or can't sing or cook worth a damn than I know Hollywood has run out of original ideas. I can not recall a time when anything original or intelligent came out on TV in the last 15 years. What is our obsession with watching bums make fools of themselves? I would have thought these types of programs would have run full circle but every year they come up with something new that is more strange then the one before. OK so people in this one need to lose weight...most...   \n",
       "24997  The basic genre is a thriller intercut with an uncomfortable menage-a-trois. Fellowes has tried to make a lot more out of this, using the lies of the title in order to bring about all manner of small twists, invariably designed to surprise the characters more than the audience.<br /><br />It's really rather messy though. Fellowes doesn't seem interested presenting the thriller elements in a fashion that will keep us seat-edged. Rather his focus is on the moral predicaments themselves.<br /><br />The dialogue is inconsistent, stagey here, vernacular there and with the constant surprise of r...   \n",
       "24998  Four things intrigued me as to this film - firstly, it stars Carly Pope (of \"Popular\" fame), who is always a pleasure to watch. Secdonly, it features brilliant New Zealand actress Rena Owen. Thirdly, it is filmed in association with the New Zealand Film Commission. Fourthly, a friend recommended it to me. However, I was utterly disappointed. The whole storyline is absurd and complicated, with very little resolution. Pope's acting is fine, but Owen is unfortunately under-used. The other actors and actresses are all okay, but I am unfamiliar with them all. Aside from the nice riddles which a...   \n",
       "24999  David Bryce's comments nearby are exceptionally well written and informative as almost say everything I feel about DARLING LILI. This massive musical is so peculiar and over blown, over produced and must have caused ruptures at Paramount in 1970. It cost 22 million dollars! That is simply irresponsible. DARLING LILI must have been greenlit from a board meeting that said \"hey we got that Pink Panther guy and that Sound Of Music gal... lets get this too\" and handed over a blank cheque. The result is a hybrid of GIGI, ZEPPELIN, HALF A SIXPENCE, some MGM 40s song and dance numbers of a style (...   \n",
       "\n",
       "       label  \n",
       "0          1  \n",
       "1          1  \n",
       "2          1  \n",
       "3          1  \n",
       "4          1  \n",
       "...      ...  \n",
       "24995      0  \n",
       "24996      0  \n",
       "24997      0  \n",
       "24998      0  \n",
       "24999      0  \n",
       "\n",
       "[25000 rows x 2 columns]"
      ]
     },
     "execution_count": 21,
     "metadata": {},
     "output_type": "execute_result"
    }
   ],
   "source": [
    "test = pd.read_csv('../imdb_extracted/test/test_imdb.csv')\n",
    "test"
   ]
  },
  {
   "cell_type": "code",
   "execution_count": 17,
   "id": "35c9ae02",
   "metadata": {},
   "outputs": [],
   "source": [
    "learn.save_encoder('fine_tuned_enc')"
   ]
  },
  {
   "cell_type": "code",
   "execution_count": 18,
   "id": "4bb4f8ab",
   "metadata": {},
   "outputs": [
    {
     "data": {
      "text/plain": [
       "38384"
      ]
     },
     "execution_count": 18,
     "metadata": {},
     "output_type": "execute_result"
    }
   ],
   "source": [
    "len(dbunch_lm.vocab)"
   ]
  },
  {
   "cell_type": "code",
   "execution_count": 10,
   "id": "25adbed5",
   "metadata": {},
   "outputs": [],
   "source": [
    "def read_tokenized_file(f): return L(f.read_text().split(' '))"
   ]
  },
  {
   "cell_type": "code",
   "execution_count": 21,
   "id": "e87465e4",
   "metadata": {},
   "outputs": [
    {
     "data": {
      "text/plain": [
       "2470"
      ]
     },
     "execution_count": 21,
     "metadata": {},
     "output_type": "execute_result"
    }
   ],
   "source": [
    "max(max(train.text.str.split().str.len().max(), val.text.str.split().str.len().max()), test.text.str.split().str.len().max())"
   ]
  },
  {
   "cell_type": "code",
   "execution_count": 11,
   "id": "47779a06",
   "metadata": {},
   "outputs": [
    {
     "name": "stdout",
     "output_type": "stream",
     "text": [
      "Due to IPython and Windows limitation, python multiprocessing isn't available now.\n",
      "So `n_workers` has to be changed to 0 to avoid getting stuck\n",
      "Due to IPython and Windows limitation, python multiprocessing isn't available now.\n",
      "So `number_workers` is changed to 0 to avoid getting stuck\n"
     ]
    }
   ],
   "source": [
    "dbunch_clas = TextDataLoaders.from_df(\n",
    "    df, \n",
    "    text_col='text', \n",
    "    label_col='label',\n",
    "    path='../imdb_extracted/',\n",
    "    seq_len = 80,\n",
    "    valid_col='is_valid',\n",
    "    get_x=read_tokenized_file,\n",
    "    get_y = parent_label\n",
    ")"
   ]
  },
  {
   "cell_type": "code",
   "execution_count": 12,
   "id": "2d59268c",
   "metadata": {},
   "outputs": [],
   "source": [
    "set_seed(42,True)"
   ]
  },
  {
   "cell_type": "code",
   "execution_count": 13,
   "id": "7cda5383",
   "metadata": {},
   "outputs": [
    {
     "data": {
      "text/plain": [
       "<fastai.text.learner.TextLearner at 0x2d448dae4c0>"
      ]
     },
     "execution_count": 13,
     "metadata": {},
     "output_type": "execute_result"
    }
   ],
   "source": [
    "learn = text_classifier_learner(dbunch_clas, AWD_LSTM, drop_mult=0.5, metrics=accuracy).to_fp16()\n",
    "learn.load_encoder('fine_tuned_enc')"
   ]
  },
  {
   "cell_type": "code",
   "execution_count": 14,
   "id": "62936b7c",
   "metadata": {},
   "outputs": [],
   "source": [
    "set_seed(42,True)"
   ]
  },
  {
   "cell_type": "code",
   "execution_count": 15,
   "id": "e17e7679",
   "metadata": {},
   "outputs": [
    {
     "data": {
      "text/html": [],
      "text/plain": [
       "<IPython.core.display.HTML object>"
      ]
     },
     "metadata": {},
     "output_type": "display_data"
    },
    {
     "data": {
      "text/plain": [
       "SuggestedLRs(valley=0.0020892962347716093)"
      ]
     },
     "execution_count": 15,
     "metadata": {},
     "output_type": "execute_result"
    },
    {
     "data": {
      "image/png": "[encoded data removed]",
      "text/plain": [
       "<Figure size 432x288 with 1 Axes>"
      ]
     },
     "metadata": {
      "needs_background": "light"
     },
     "output_type": "display_data"
    }
   ],
   "source": [
    "learn.lr_find()"
   ]
  },
  {
   "cell_type": "code",
   "execution_count": 16,
   "id": "97ae5508",
   "metadata": {},
   "outputs": [],
   "source": [
    "set_seed(42,True)"
   ]
  },
  {
   "cell_type": "code",
   "execution_count": 17,
   "id": "f9a00c0d",
   "metadata": {},
   "outputs": [
    {
     "data": {
      "text/html": [
       "<table border=\"1\" class=\"dataframe\">\n",
       "  <thead>\n",
       "    <tr style=\"text-align: left;\">\n",
       "      <th>epoch</th>\n",
       "      <th>train_loss</th>\n",
       "      <th>valid_loss</th>\n",
       "      <th>accuracy</th>\n",
       "      <th>time</th>\n",
       "    </tr>\n",
       "  </thead>\n",
       "  <tbody>\n",
       "    <tr>\n",
       "      <td>0</td>\n",
       "      <td>0.278808</td>\n",
       "      <td>0.251642</td>\n",
       "      <td>0.904000</td>\n",
       "      <td>01:09</td>\n",
       "    </tr>\n",
       "  </tbody>\n",
       "</table>"
      ],
      "text/plain": [
       "<IPython.core.display.HTML object>"
      ]
     },
     "metadata": {},
     "output_type": "display_data"
    }
   ],
   "source": [
    "learn.fit_one_cycle(1, 0.002, moms=(0.8,0.7,0.8))"
   ]
  },
  {
   "cell_type": "code",
   "execution_count": 18,
   "id": "627e3f70",
   "metadata": {},
   "outputs": [],
   "source": [
    "set_seed(42,True)"
   ]
  },
  {
   "cell_type": "code",
   "execution_count": 19,
   "id": "561a205a",
   "metadata": {},
   "outputs": [
    {
     "data": {
      "text/html": [
       "<table border=\"1\" class=\"dataframe\">\n",
       "  <thead>\n",
       "    <tr style=\"text-align: left;\">\n",
       "      <th>epoch</th>\n",
       "      <th>train_loss</th>\n",
       "      <th>valid_loss</th>\n",
       "      <th>accuracy</th>\n",
       "      <th>time</th>\n",
       "    </tr>\n",
       "  </thead>\n",
       "  <tbody>\n",
       "    <tr>\n",
       "      <td>0</td>\n",
       "      <td>0.217313</td>\n",
       "      <td>0.210862</td>\n",
       "      <td>0.918000</td>\n",
       "      <td>02:20</td>\n",
       "    </tr>\n",
       "    <tr>\n",
       "      <td>1</td>\n",
       "      <td>0.122668</td>\n",
       "      <td>0.192235</td>\n",
       "      <td>0.930800</td>\n",
       "      <td>02:21</td>\n",
       "    </tr>\n",
       "  </tbody>\n",
       "</table>"
      ],
      "text/plain": [
       "<IPython.core.display.HTML object>"
      ]
     },
     "metadata": {},
     "output_type": "display_data"
    }
   ],
   "source": [
    "learn.unfreeze()\n",
    "learn.fit_one_cycle(2, 0.002, moms=(0.8,0.7,0.8))"
   ]
  },
  {
   "cell_type": "code",
   "execution_count": 22,
   "id": "47a34b62",
   "metadata": {},
   "outputs": [
    {
     "data": {
      "text/html": [],
      "text/plain": [
       "<IPython.core.display.HTML object>"
      ]
     },
     "metadata": {},
     "output_type": "display_data"
    }
   ],
   "source": [
    "import warnings\n",
    "from IPython.display import clear_output\n",
    "warnings.filterwarnings('ignore')\n",
    "#warnings.filterwarnings(action='once')\n",
    "\n",
    "res_pred = []\n",
    "for text in test['text']:\n",
    "    res_pred.append(int(learn.predict(text)[0]))\n",
    "    clear_output(wait=True)"
   ]
  },
  {
   "cell_type": "code",
   "execution_count": 23,
   "id": "bac940e5",
   "metadata": {},
   "outputs": [
    {
     "data": {
      "text/plain": [
       "0.92796"
      ]
     },
     "execution_count": 23,
     "metadata": {},
     "output_type": "execute_result"
    }
   ],
   "source": [
    "from sklearn.metrics import accuracy_score\n",
    "\n",
    "accuracy_score(res_pred, test['label'])"
   ]
  },
  {
   "cell_type": "code",
   "execution_count": 2,
   "id": "8112f8b3",
   "metadata": {},
   "outputs": [
    {
     "data": {
      "text/plain": [
       "2.5"
      ]
     },
     "execution_count": 2,
     "metadata": {},
     "output_type": "execute_result"
    }
   ],
   "source": [
    "150/60"
   ]
  },
  {
   "cell_type": "code",
   "execution_count": 3,
   "id": "79e97612",
   "metadata": {},
   "outputs": [
    {
     "data": {
      "text/plain": [
       "46.5"
      ]
     },
     "execution_count": 3,
     "metadata": {},
     "output_type": "execute_result"
    }
   ],
   "source": [
    "44+2.5"
   ]
  },
  {
   "cell_type": "code",
   "execution_count": null,
   "id": "c11c07b5",
   "metadata": {},
   "outputs": [],
   "source": []
  },
  {
   "cell_type": "code",
   "execution_count": null,
   "id": "967104f6",
   "metadata": {},
   "outputs": [],
   "source": []
  },
  {
   "cell_type": "code",
   "execution_count": null,
   "id": "5ec04b88",
   "metadata": {},
   "outputs": [],
   "source": []
  },
  {
   "cell_type": "code",
   "execution_count": 30,
   "id": "2a9e8d1f",
   "metadata": {
    "scrolled": true
   },
   "outputs": [
    {
     "data": {
      "text/html": [
       "<table border=\"1\" class=\"dataframe\">\n",
       "  <thead>\n",
       "    <tr style=\"text-align: left;\">\n",
       "      <th>epoch</th>\n",
       "      <th>train_loss</th>\n",
       "      <th>valid_loss</th>\n",
       "      <th>accuracy</th>\n",
       "      <th>time</th>\n",
       "    </tr>\n",
       "  </thead>\n",
       "  <tbody>\n",
       "    <tr>\n",
       "      <td>0</td>\n",
       "      <td>0.222276</td>\n",
       "      <td>0.242179</td>\n",
       "      <td>0.899000</td>\n",
       "      <td>02:21</td>\n",
       "    </tr>\n",
       "    <tr>\n",
       "      <td>1</td>\n",
       "      <td>0.145724</td>\n",
       "      <td>0.197174</td>\n",
       "      <td>0.928800</td>\n",
       "      <td>02:21</td>\n",
       "    </tr>\n",
       "    <tr>\n",
       "      <td>2</td>\n",
       "      <td>0.065724</td>\n",
       "      <td>0.213217</td>\n",
       "      <td>0.930800</td>\n",
       "      <td>02:21</td>\n",
       "    </tr>\n",
       "  </tbody>\n",
       "</table>"
      ],
      "text/plain": [
       "<IPython.core.display.HTML object>"
      ]
     },
     "metadata": {},
     "output_type": "display_data"
    }
   ],
   "source": [
    "learn.unfreeze()\n",
    "learn.fit_one_cycle(3, 0.002, moms=(0.8,0.7,0.8))"
   ]
  },
  {
   "cell_type": "code",
   "execution_count": 32,
   "id": "d085ec3b",
   "metadata": {
    "scrolled": true
   },
   "outputs": [
    {
     "data": {
      "text/html": [],
      "text/plain": [
       "<IPython.core.display.HTML object>"
      ]
     },
     "metadata": {},
     "output_type": "display_data"
    }
   ],
   "source": [
    "import warnings\n",
    "from IPython.display import clear_output\n",
    "warnings.filterwarnings('ignore')\n",
    "#warnings.filterwarnings(action='once')\n",
    "\n",
    "res_pred = []\n",
    "for text in test['text']:\n",
    "    res_pred.append(int(learn.predict(text)[0]))\n",
    "    clear_output(wait=True)\n",
    "\n",
    "\n"
   ]
  },
  {
   "cell_type": "code",
   "execution_count": 33,
   "id": "39382ad7",
   "metadata": {},
   "outputs": [
    {
     "data": {
      "text/plain": [
       "0.9286"
      ]
     },
     "execution_count": 33,
     "metadata": {},
     "output_type": "execute_result"
    }
   ],
   "source": [
    "from sklearn.metrics import accuracy_score\n",
    "\n",
    "accuracy_score(res_pred, test['label'])"
   ]
  },
  {
   "cell_type": "code",
   "execution_count": 34,
   "id": "4d9e393d",
   "metadata": {},
   "outputs": [
    {
     "data": {
      "text/plain": [
       "0.9286257847082797"
      ]
     },
     "execution_count": 34,
     "metadata": {},
     "output_type": "execute_result"
    }
   ],
   "source": [
    "from sklearn.metrics import f1_score\n",
    "f1_score(res_pred, test['label'], average='weighted')"
   ]
  },
  {
   "cell_type": "code",
   "execution_count": null,
   "id": "f5f1f771",
   "metadata": {},
   "outputs": [],
   "source": []
  }
 ],
 "metadata": {
  "kernelspec": {
   "display_name": "Python 3 (ipykernel)",
   "language": "python",
   "name": "python3"
  },
  "language_info": {
   "codemirror_mode": {
    "name": "ipython",
    "version": 3
   },
   "file_extension": ".py",
   "mimetype": "text/x-python",
   "name": "python",
   "nbconvert_exporter": "python",
   "pygments_lexer": "ipython3",
   "version": "3.9.7"
  }
 },
 "nbformat": 4,
 "nbformat_minor": 5
}
